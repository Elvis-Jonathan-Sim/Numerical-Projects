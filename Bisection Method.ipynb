{
 "cells": [
  {
   "cell_type": "markdown",
   "id": "abd07a94",
   "metadata": {},
   "source": [
    "## Bisection Method \n",
    "</br> Implementing Bisection Method for finding the \"Zeros\" of the Function. \n",
    "<br> **Note**: Please choose "
   ]
  },
  {
   "cell_type": "code",
   "execution_count": 2,
   "id": "b40b7a9b",
   "metadata": {},
   "outputs": [],
   "source": [
    "def func(x):\n",
    "    return x**2 -2\n",
    "\n",
    "def bisec(x0,x1,epsilon):\n",
    "    \"\"\"\"\n",
    "    x0 = First Starting Value\n",
    "    x1 = Second Starting Value\n",
    "    epsilon = Approximation Error\n",
    "    \n",
    "    **Please note that the multiplication of the function value correspond to \"x0\" and \"x1\" must be smaller than zero in order to fulfill the \"Bisection Method Criteria\".**\n",
    "    \n",
    "    \"\"\"\n",
    "    \n",
    "    if func(x0)*func(x1) > 0:\n",
    "        raise ValueError(\"Please Choose other starting values\")\n",
    "    step = 1\n",
    "    print(\"\\n ***Bisection Method***\\n\")\n",
    "    condition = True\n",
    "    while condition:\n",
    "        x2 = (x0 + x1)/2 \n",
    "        print('Iteration-%d, x2 = %0.6f and func(x2) = %0.6f' % (step, x2, func(x2)))\n",
    "        if func(x2)*func(x0) < 0:\n",
    "            x1 = x2\n",
    "        else:\n",
    "            x0 = x2\n",
    "        step += 1\n",
    "        condition = abs(func(x2)) > epsilon\n",
    "    print(\"\\nRequired Square Root is: %0.8f\" % x2)"
   ]
  },
  {
   "cell_type": "code",
   "execution_count": 3,
   "id": "33239502",
   "metadata": {},
   "outputs": [
    {
     "name": "stdout",
     "output_type": "stream",
     "text": [
      "\n",
      " ***Bisection Method***\n",
      "\n",
      "Iteration-1, x2 = 1.000000 and func(x2) = -1.000000\n",
      "Iteration-2, x2 = 1.500000 and func(x2) = 0.250000\n",
      "Iteration-3, x2 = 1.250000 and func(x2) = -0.437500\n",
      "Iteration-4, x2 = 1.375000 and func(x2) = -0.109375\n",
      "Iteration-5, x2 = 1.437500 and func(x2) = 0.066406\n",
      "Iteration-6, x2 = 1.406250 and func(x2) = -0.022461\n",
      "Iteration-7, x2 = 1.421875 and func(x2) = 0.021729\n",
      "Iteration-8, x2 = 1.414062 and func(x2) = -0.000427\n",
      "Iteration-9, x2 = 1.417969 and func(x2) = 0.010635\n",
      "Iteration-10, x2 = 1.416016 and func(x2) = 0.005100\n",
      "Iteration-11, x2 = 1.415039 and func(x2) = 0.002336\n",
      "Iteration-12, x2 = 1.414551 and func(x2) = 0.000954\n",
      "Iteration-13, x2 = 1.414307 and func(x2) = 0.000263\n",
      "Iteration-14, x2 = 1.414185 and func(x2) = -0.000082\n",
      "Iteration-15, x2 = 1.414246 and func(x2) = 0.000091\n",
      "Iteration-16, x2 = 1.414215 and func(x2) = 0.000004\n",
      "Iteration-17, x2 = 1.414200 and func(x2) = -0.000039\n",
      "Iteration-18, x2 = 1.414207 and func(x2) = -0.000017\n",
      "Iteration-19, x2 = 1.414211 and func(x2) = -0.000006\n",
      "Iteration-20, x2 = 1.414213 and func(x2) = -0.000001\n",
      "Iteration-21, x2 = 1.414214 and func(x2) = 0.000002\n",
      "Iteration-22, x2 = 1.414214 and func(x2) = 0.000000\n",
      "Iteration-23, x2 = 1.414213 and func(x2) = -0.000000\n",
      "Iteration-24, x2 = 1.414214 and func(x2) = -0.000000\n",
      "Iteration-25, x2 = 1.414214 and func(x2) = 0.000000\n",
      "Iteration-26, x2 = 1.414214 and func(x2) = 0.000000\n",
      "Iteration-27, x2 = 1.414214 and func(x2) = -0.000000\n",
      "Iteration-28, x2 = 1.414214 and func(x2) = -0.000000\n",
      "\n",
      "Required Square Root is: 1.41421356\n"
     ]
    }
   ],
   "source": [
    "bisec(0,2,1e-8)"
   ]
  }
 ],
 "metadata": {
  "kernelspec": {
   "display_name": "Python 3 (ipykernel)",
   "language": "python",
   "name": "python3"
  },
  "language_info": {
   "codemirror_mode": {
    "name": "ipython",
    "version": 3
   },
   "file_extension": ".py",
   "mimetype": "text/x-python",
   "name": "python",
   "nbconvert_exporter": "python",
   "pygments_lexer": "ipython3",
   "version": "3.7.12"
  }
 },
 "nbformat": 4,
 "nbformat_minor": 5
}
