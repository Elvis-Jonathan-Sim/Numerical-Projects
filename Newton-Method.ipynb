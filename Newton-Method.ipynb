{
 "cells": [
  {
   "cell_type": "markdown",
   "id": "36cd0d14",
   "metadata": {},
   "source": [
    "## Newton-Rahpson Method\n",
    "</br> Implementing Newton - Rahpson Method for simple polynomials Iteration \n",
    "<br> **Notes:** I have not find the method to automatically differentiate the function. We can either manually calculate it or implement a function that derives the function "
   ]
  },
  {
   "cell_type": "code",
   "execution_count": 25,
   "id": "a58e4199",
   "metadata": {},
   "outputs": [],
   "source": [
    "import numpy as np\n",
    "import matplotlib.pyplot as plt \n",
    "import pandas as pd\n",
    "\n",
    "def f(x):\n",
    "    return x**2 - 2\n",
    "\n",
    "def der_f(x):\n",
    "    return  2*x \n",
    "\n",
    "def newthon_method(x,n):\n",
    "    \"\"\" x = Startwert \n",
    "            n = Iterations Step \"\"\"\n",
    "    Iterated_Values = [x]\n",
    "    for i in range (n):\n",
    "        if der_f(x) == 0:\n",
    "            raise ValueError(\"Division by Zero\")\n",
    "            break\n",
    "        else:\n",
    "            x1 = x - (f(x)/der_f(x))\n",
    "            Iterated_Values.append(x1)\n",
    "            x = x1 \n",
    "            \n",
    "    return Iterated_Values \n"
   ]
  },
  {
   "cell_type": "code",
   "execution_count": 26,
   "id": "612a62dd",
   "metadata": {},
   "outputs": [
    {
     "data": {
      "text/plain": [
       "[10,\n",
       " 5.1,\n",
       " 2.7460784313725486,\n",
       " 1.7371948743795982,\n",
       " 1.444238094866232,\n",
       " 1.4145256551487377,\n",
       " 1.4142135968022693,\n",
       " 1.4142135623730954,\n",
       " 1.4142135623730951,\n",
       " 1.414213562373095,\n",
       " 1.4142135623730951]"
      ]
     },
     "execution_count": 26,
     "metadata": {},
     "output_type": "execute_result"
    }
   ],
   "source": [
    "newthon_method(10,10)"
   ]
  },
  {
   "cell_type": "markdown",
   "id": "91de02fa",
   "metadata": {},
   "source": [
    "#### Iterated Values from Newton Method\n",
    "<br> We see that the value converges to the exact value just through few iterations. *To prove that our **assumption** is true* , we need to analyze it further with **Experimental Order of Convergence (EOC)** \n",
    "\n",
    "<br> *The Experimental Order of Convergence* **(EOC)** tells us how the order of convergence from an Iteration. Newton- Rhapson Method will have a **local quadratic convergence** in an intervall close to the fixpoint. "
   ]
  },
  {
   "cell_type": "code",
   "execution_count": 35,
   "id": "adb7f4bf",
   "metadata": {},
   "outputs": [],
   "source": [
    "Iterated = newthon_method(10,10)\n",
    "x = np.sqrt(2)\n",
    "def EOC(array, x):\n",
    "    EOC = [None,None]\n",
    "    for i in range(len(array)-2):\n",
    "            a = abs(array[i+1] - x)/abs(array[i+2] - x)\n",
    "            b = abs(array[i] - x)/abs(array[i+1] - x)\n",
    "            eoc = np.log(a)/np.log(b)\n",
    "            EOC.append(eoc)\n",
    "            \n",
    "    return EOC"
   ]
  },
  {
   "cell_type": "code",
   "execution_count": 36,
   "id": "0d08bfaa",
   "metadata": {},
   "outputs": [
    {
     "name": "stderr",
     "output_type": "stream",
     "text": [
      "/opt/conda/lib/python3.7/site-packages/ipykernel_launcher.py:6: RuntimeWarning: divide by zero encountered in double_scalars\n",
      "  \n",
      "/opt/conda/lib/python3.7/site-packages/ipykernel_launcher.py:7: RuntimeWarning: divide by zero encountered in double_scalars\n",
      "  import sys\n",
      "/opt/conda/lib/python3.7/site-packages/ipykernel_launcher.py:8: RuntimeWarning: divide by zero encountered in log\n",
      "  \n",
      "/opt/conda/lib/python3.7/site-packages/ipykernel_launcher.py:8: RuntimeWarning: invalid value encountered in double_scalars\n",
      "  \n"
     ]
    },
    {
     "data": {
      "text/plain": [
       "[None,\n",
       " None,\n",
       " 1.2037307219091022,\n",
       " 1.3918220269630648,\n",
       " 1.6767918626585339,\n",
       " 1.9222548663662735,\n",
       " 1.9954477610362797,\n",
       " 2.0696859426354237,\n",
       " inf,\n",
       " nan,\n",
       " nan]"
      ]
     },
     "execution_count": 36,
     "metadata": {},
     "output_type": "execute_result"
    }
   ],
   "source": [
    "EOC(Iterated,x)"
   ]
  },
  {
   "cell_type": "code",
   "execution_count": 37,
   "id": "74a65f3b",
   "metadata": {},
   "outputs": [
    {
     "name": "stdout",
     "output_type": "stream",
     "text": [
      "11\n",
      "11\n"
     ]
    },
    {
     "name": "stderr",
     "output_type": "stream",
     "text": [
      "/opt/conda/lib/python3.7/site-packages/ipykernel_launcher.py:6: RuntimeWarning: divide by zero encountered in double_scalars\n",
      "  \n",
      "/opt/conda/lib/python3.7/site-packages/ipykernel_launcher.py:7: RuntimeWarning: divide by zero encountered in double_scalars\n",
      "  import sys\n",
      "/opt/conda/lib/python3.7/site-packages/ipykernel_launcher.py:8: RuntimeWarning: divide by zero encountered in log\n",
      "  \n",
      "/opt/conda/lib/python3.7/site-packages/ipykernel_launcher.py:8: RuntimeWarning: invalid value encountered in double_scalars\n",
      "  \n"
     ]
    }
   ],
   "source": [
    "Exp_Convergence = EOC(Iterated,x)\n",
    "print(len(Exp_Convergence))\n",
    "print(len(Iterated))"
   ]
  },
  {
   "cell_type": "code",
   "execution_count": 47,
   "id": "b8d7ab0c",
   "metadata": {},
   "outputs": [
    {
     "data": {
      "text/html": [
       "<div>\n",
       "<style scoped>\n",
       "    .dataframe tbody tr th:only-of-type {\n",
       "        vertical-align: middle;\n",
       "    }\n",
       "\n",
       "    .dataframe tbody tr th {\n",
       "        vertical-align: top;\n",
       "    }\n",
       "\n",
       "    .dataframe thead th {\n",
       "        text-align: right;\n",
       "    }\n",
       "</style>\n",
       "<table border=\"1\" class=\"dataframe\">\n",
       "  <thead>\n",
       "    <tr style=\"text-align: right;\">\n",
       "      <th></th>\n",
       "      <th>Iterations</th>\n",
       "      <th>Experimental Convergence Order</th>\n",
       "    </tr>\n",
       "  </thead>\n",
       "  <tbody>\n",
       "    <tr>\n",
       "      <th>0</th>\n",
       "      <td>10.000000</td>\n",
       "      <td>NaN</td>\n",
       "    </tr>\n",
       "    <tr>\n",
       "      <th>1</th>\n",
       "      <td>5.100000</td>\n",
       "      <td>NaN</td>\n",
       "    </tr>\n",
       "    <tr>\n",
       "      <th>2</th>\n",
       "      <td>2.746078</td>\n",
       "      <td>1.203731</td>\n",
       "    </tr>\n",
       "    <tr>\n",
       "      <th>3</th>\n",
       "      <td>1.737195</td>\n",
       "      <td>1.391822</td>\n",
       "    </tr>\n",
       "    <tr>\n",
       "      <th>4</th>\n",
       "      <td>1.444238</td>\n",
       "      <td>1.676792</td>\n",
       "    </tr>\n",
       "    <tr>\n",
       "      <th>5</th>\n",
       "      <td>1.414526</td>\n",
       "      <td>1.922255</td>\n",
       "    </tr>\n",
       "    <tr>\n",
       "      <th>6</th>\n",
       "      <td>1.414214</td>\n",
       "      <td>1.995448</td>\n",
       "    </tr>\n",
       "    <tr>\n",
       "      <th>7</th>\n",
       "      <td>1.414214</td>\n",
       "      <td>2.069686</td>\n",
       "    </tr>\n",
       "    <tr>\n",
       "      <th>8</th>\n",
       "      <td>1.414214</td>\n",
       "      <td>inf</td>\n",
       "    </tr>\n",
       "    <tr>\n",
       "      <th>9</th>\n",
       "      <td>1.414214</td>\n",
       "      <td>NaN</td>\n",
       "    </tr>\n",
       "    <tr>\n",
       "      <th>10</th>\n",
       "      <td>1.414214</td>\n",
       "      <td>NaN</td>\n",
       "    </tr>\n",
       "  </tbody>\n",
       "</table>\n",
       "</div>"
      ],
      "text/plain": [
       "    Iterations  Experimental Convergence Order\n",
       "0    10.000000                             NaN\n",
       "1     5.100000                             NaN\n",
       "2     2.746078                        1.203731\n",
       "3     1.737195                        1.391822\n",
       "4     1.444238                        1.676792\n",
       "5     1.414526                        1.922255\n",
       "6     1.414214                        1.995448\n",
       "7     1.414214                        2.069686\n",
       "8     1.414214                             inf\n",
       "9     1.414214                             NaN\n",
       "10    1.414214                             NaN"
      ]
     },
     "execution_count": 47,
     "metadata": {},
     "output_type": "execute_result"
    }
   ],
   "source": [
    "Iterated_Dict = {\"Iterations\" : Iterated, \"Experimental Convergence Order\" : Exp_Convergence}\n",
    "Iterated_DF = pd.DataFrame.from_dict(Iterated_Dict, orient=\"columns\")\n",
    "Iterated_DF"
   ]
  },
  {
   "cell_type": "markdown",
   "id": "72b05a74",
   "metadata": {},
   "source": [
    "### Visualisation of Newton-Method's iterated values \n",
    "</br> We can see that after the *4th or 5th iterations*, the slope becomes constant. \n",
    "<br> When we try to compare with our \"Iterated_DF (Dataframe)\", the *6th / 7th Iteration* has a quadratic convergence. "
   ]
  },
  {
   "cell_type": "code",
   "execution_count": 64,
   "id": "12fd3c50",
   "metadata": {},
   "outputs": [
    {
     "data": {
      "image/png": "[encoded data removed]",
      "text/plain": [
       "<Figure size 1350x900 with 1 Axes>"
      ]
     },
     "metadata": {
      "needs_background": "light"
     },
     "output_type": "display_data"
    }
   ],
   "source": [
    "Steps = np.arange(len(Iterated))\n",
    "Values = Iterated\n",
    "plt.figure(figsize=(15,10), dpi = 90)\n",
    "plt.plot(Steps,Values)\n",
    "plt.xlabel(\"Iteration Steps\")\n",
    "plt.ylabel(\"Iteration Values\")\n",
    "plt.grid()\n",
    "plt.show()"
   ]
  },
  {
   "cell_type": "code",
   "execution_count": null,
   "id": "5964d788",
   "metadata": {},
   "outputs": [],
   "source": []
  }
 ],
 "metadata": {
  "kernelspec": {
   "display_name": "Python 3 (ipykernel)",
   "language": "python",
   "name": "python3"
  },
  "language_info": {
   "codemirror_mode": {
    "name": "ipython",
    "version": 3
   },
   "file_extension": ".py",
   "mimetype": "text/x-python",
   "name": "python",
   "nbconvert_exporter": "python",
   "pygments_lexer": "ipython3",
   "version": "3.7.12"
  }
 },
 "nbformat": 4,
 "nbformat_minor": 5
}
