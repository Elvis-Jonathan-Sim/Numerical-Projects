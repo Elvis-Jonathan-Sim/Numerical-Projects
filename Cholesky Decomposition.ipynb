{
 "cells": [
  {
   "cell_type": "markdown",
   "id": "bd4d908f-ea1d-4f4e-933f-5960bd1860b8",
   "metadata": {
    "tags": []
   },
   "source": [
    "## Project: Cholesky Decomposition Algorithms\n",
    "\n",
    "<br> Trying to create a solver for Cholesky Decomposition "
   ]
  },
  {
   "cell_type": "code",
   "execution_count": 44,
   "id": "20061473-5000-462d-8edd-479e57a1717c",
   "metadata": {},
   "outputs": [],
   "source": [
    "import numpy as np\n",
    "A = [[4,12,-16],[12,37,-43],[-16,-43,98]]"
   ]
  },
  {
   "cell_type": "code",
   "execution_count": 51,
   "id": "22266913-16ac-4bc0-866d-6f732a4f5aa3",
   "metadata": {},
   "outputs": [
    {
     "name": "stdout",
     "output_type": "stream",
     "text": [
      "The Cholesky Decomposition: \n",
      "\n",
      "Diagonal Matrix: \n",
      "\n",
      "[[4. 0. 0.]\n",
      " [0. 1. 0.]\n",
      " [0. 0. 9.]]\n",
      "\n",
      " Lower Triangular Matrix: \n",
      "\n",
      "[[ 1.  0.  0.]\n",
      " [ 3.  1.  0.]\n",
      " [-4.  5.  1.]]\n",
      "\n",
      " Upper Triangular Matrix: \n",
      "\n",
      "[[ 1.  3. -4.]\n",
      " [ 0.  1.  5.]\n",
      " [ 0.  0.  1.]]\n"
     ]
    }
   ],
   "source": [
    "D = np.identity(3)\n",
    "L = np.identity(3)\n",
    "for i in range(0,3):\n",
    "    for j in range(0,3):\n",
    "        if i == j:\n",
    "            D[i][j] = A[i][j] - sum((((L[j][k])**2)*D[k][k]) for k in range(0, j))\n",
    "        elif i > j:\n",
    "            L[i][j] = (A[i][j] - sum((L[i][k]*L[j][k]*D[k][k]) for k in range(0, j)))/D[j][j]\n",
    "L_T = np.array(L)\n",
    "print(\"The Cholesky Decomposition: \\n\")\n",
    "print(\"Diagonal Matrix: \\n\")\n",
    "print(D)\n",
    "print(\"\\n Lower Triangular Matrix: \\n\")\n",
    "print(L)\n",
    "print(\"\\n Upper Triangular Matrix: \\n\")\n",
    "print(L_T.T)"
   ]
  },
  {
   "cell_type": "markdown",
   "id": "2bc749e2-dddf-44ac-8628-5a84da15749b",
   "metadata": {},
   "source": [
    "<br> Check if the Cholesky Decomposition are correct"
   ]
  },
  {
   "cell_type": "code",
   "execution_count": 60,
   "id": "684f25fa-a735-4992-9b49-94adad39428f",
   "metadata": {},
   "outputs": [
    {
     "data": {
      "text/plain": [
       "array([[0., 0., 0.],\n",
       "       [0., 0., 0.],\n",
       "       [0., 0., 0.]])"
      ]
     },
     "execution_count": 60,
     "metadata": {},
     "output_type": "execute_result"
    }
   ],
   "source": [
    "LD = np.matmul(L,D)\n",
    "A_clsky = np.matmul(LD, L_T.T)\n",
    "A - A_clsky"
   ]
  },
  {
   "cell_type": "markdown",
   "id": "c8219a68-421c-486c-ae63-2ccf08a42b5a",
   "metadata": {},
   "source": [
    "<br> Thus we show that the algorithms for Cholesky Decomposition works. ( Reminder: The Matrix must be symmetrical and positive definite! )"
   ]
  }
 ],
 "metadata": {
  "kernelspec": {
   "display_name": "Python 3 (ipykernel)",
   "language": "python",
   "name": "python3"
  },
  "language_info": {
   "codemirror_mode": {
    "name": "ipython",
    "version": 3
   },
   "file_extension": ".py",
   "mimetype": "text/x-python",
   "name": "python",
   "nbconvert_exporter": "python",
   "pygments_lexer": "ipython3",
   "version": "3.9.6"
  }
 },
 "nbformat": 4,
 "nbformat_minor": 5
}
