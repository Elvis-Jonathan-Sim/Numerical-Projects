{
 "cells": [
  {
   "cell_type": "code",
   "execution_count": 12,
   "id": "dcdb6164-f56b-4d71-9838-dd21334a3f9b",
   "metadata": {},
   "outputs": [
    {
     "name": "stdout",
     "output_type": "stream",
     "text": [
      "[[0.16326531]\n",
      " [0.24489796]\n",
      " [0.26530612]]\n",
      " \n"
     ]
    }
   ],
   "source": [
    "import numpy as np\n",
    "\n",
    "#Simple Linear Algebra Equation of Ax = b \n",
    "\n",
    "A = np.matrix('3 1 1; 1 1 6; 1 4 7')\n",
    "x = np.array([[1],[2],[3]])\n",
    "A_inverse = A**(-1) \n",
    "b = A_inverse*x\n",
    "print(b)\n",
    "print(\" \")"
   ]
  },
  {
   "cell_type": "markdown",
   "id": "fcb6914d-465b-4ec2-8ab8-1e2c0194530c",
   "metadata": {},
   "source": [
    "# Berechnung der Einheits-Matrize "
   ]
  },
  {
   "cell_type": "code",
   "execution_count": 13,
   "id": "01c99d5b-9147-49db-8aba-09454541f92d",
   "metadata": {},
   "outputs": [
    {
     "name": "stdout",
     "output_type": "stream",
     "text": [
      "[[ 1.00000000e+00  0.00000000e+00 -2.08166817e-17]\n",
      " [-1.38777878e-17  1.00000000e+00 -1.38777878e-17]\n",
      " [ 4.85722573e-17 -2.22044605e-16  1.00000000e+00]]\n",
      " \n",
      "[[ 1.00000000e+00 -5.55111512e-17  1.38777878e-17]\n",
      " [ 0.00000000e+00  1.00000000e+00 -3.33066907e-16]\n",
      " [ 6.93889390e-18 -2.77555756e-17  1.00000000e+00]]\n",
      "\n",
      " Vergleich mit dem von NumPy: \n",
      "\n",
      "[[ 1.00000000e+00 -5.55111512e-17  1.38777878e-17]\n",
      " [ 0.00000000e+00  1.00000000e+00 -3.33066907e-16]\n",
      " [ 6.93889390e-18 -2.77555756e-17  1.00000000e+00]]\n"
     ]
    }
   ],
   "source": [
    "print(A*A**(-1))\n",
    "print(\" \")\n",
    "print(A**(-1)*A)\n",
    "print(\"\\n Vergleich mit dem von NumPy: \\n\")\n",
    "print(np.linalg.inv(A)*A)"
   ]
  },
  {
   "cell_type": "markdown",
   "id": "325c0beb-91b6-44ec-9bc0-a0f52ffd7a4f",
   "metadata": {},
   "source": [
    "# Linear Algebra Tool NumPy "
   ]
  },
  {
   "cell_type": "markdown",
   "id": "2a08b9b4-2757-41a3-95b4-eb01ce9702eb",
   "metadata": {},
   "source": [
    "<br/> solving simple Linear Algebra Equation through NumPy linalg Library "
   ]
  },
  {
   "cell_type": "code",
   "execution_count": 14,
   "id": "b72dd1a7-6804-44f9-8c45-d53ed14801ac",
   "metadata": {},
   "outputs": [
    {
     "name": "stdout",
     "output_type": "stream",
     "text": [
      "[[9 8 4]\n",
      " [4 3 3]\n",
      " [5 7 9]]\n",
      "\n",
      " Matrix Rank: \n",
      "\n",
      "3\n",
      "\n",
      " Solving Matrix Determinant:\n",
      "\n",
      "-62.00000000000001\n",
      "Solving Matrix Inverse: \n",
      "\n",
      "[[-0.09677419  0.70967742 -0.19354839]\n",
      " [ 0.33870968 -0.98387097  0.17741935]\n",
      " [-0.20967742  0.37096774  0.08064516]]\n",
      "Matrix Rank: \n",
      "\n",
      "3\n",
      "Eigenvalues and Eingenvectors: \n",
      "\n",
      "(array([17.1814259 ,  4.60259822, -0.78402412]), matrix([[-0.65432957, -0.61346135,  0.52776574],\n",
      "        [-0.32863535, -0.05664095, -0.79499583],\n",
      "        [-0.68106653,  0.78769091,  0.29907348]]))\n"
     ]
    }
   ],
   "source": [
    "from numpy import linalg\n",
    "array = np.random.randint(1,10,size=(3,3))\n",
    "A = np.matrix(array)\n",
    "print(A)\n",
    "print(\"\\n Matrix Rank: \\n\")\n",
    "print(linalg.matrix_rank(A))\n",
    "print(\"\\n Solving Matrix Determinant:\\n\")\n",
    "print(linalg.det(A))\n",
    "print(\"Solving Matrix Inverse: \\n\")\n",
    "print(linalg.inv(A))\n",
    "print(\"Matrix Rank: \\n\")\n",
    "print(linalg.matrix_rank(A))\n",
    "print(\"Eigenvalues and Eingenvectors: \\n\")\n",
    "print(linalg.eig(A))"
   ]
  },
  {
   "cell_type": "markdown",
   "id": "1e206405-f207-4484-b46f-c4f6605962a7",
   "metadata": {},
   "source": [
    "### Trying out Cholesky Decomposition \n"
   ]
  },
  {
   "cell_type": "code",
   "execution_count": 15,
   "id": "cc3797d0-dd59-499b-a2c0-0095b1363ffb",
   "metadata": {},
   "outputs": [
    {
     "name": "stdout",
     "output_type": "stream",
     "text": [
      "[[ 2.          0.          0.        ]\n",
      " [-1.5         0.8660254   0.        ]\n",
      " [ 0.          1.15470054  0.81649658]]\n",
      "[[ 4. -3.  0.]\n",
      " [-3.  3.  1.]\n",
      " [ 0.  1.  2.]]\n"
     ]
    }
   ],
   "source": [
    "A = np.matrix('4 -3 0; -3 3 1; 0 1 2')\n",
    "L = np.linalg.cholesky(A)\n",
    "print(L)\n",
    "# Check if the Decomposition is right\n",
    "print(L*L.getT())"
   ]
  },
  {
   "cell_type": "markdown",
   "id": "992c1676-a615-485e-b3fb-91b4462bd23c",
   "metadata": {
    "tags": []
   },
   "source": [
    "### Solving Linear Equation using Cholesky Decomposition \n",
    "<br> **Applying A = (L*L^(T))**\n",
    "<p> Algorithms of Solving Linear Equations using Cholesky Decomposition: \n",
    "<p> Step 1: L*y = b\n",
    "<p> Step 2: L^T*x = y\n",
    "<p> Solve for x "
   ]
  },
  {
   "cell_type": "code",
   "execution_count": 16,
   "id": "b878738b-aac1-4c77-9c70-9e55de5d0743",
   "metadata": {},
   "outputs": [
    {
     "name": "stdout",
     "output_type": "stream",
     "text": [
      "[[3.        ]\n",
      " [2.88675135]\n",
      " [5.71547607]]\n",
      " \n",
      "[[-3.]\n",
      " [-6.]\n",
      " [ 7.]]\n"
     ]
    }
   ],
   "source": [
    "b = np.matrix('6;-2;8')\n",
    "y = np.linalg.solve(L,b)\n",
    "print(y)\n",
    "print(\" \")\n",
    "x = np.linalg.solve(L.getT(),y)\n",
    "print(x)"
   ]
  }
 ],
 "metadata": {
  "kernelspec": {
   "display_name": "Python 3 (ipykernel)",
   "language": "python",
   "name": "python3"
  },
  "language_info": {
   "codemirror_mode": {
    "name": "ipython",
    "version": 3
   },
   "file_extension": ".py",
   "mimetype": "text/x-python",
   "name": "python",
   "nbconvert_exporter": "python",
   "pygments_lexer": "ipython3",
   "version": "3.9.6"
  }
 },
 "nbformat": 4,
 "nbformat_minor": 5
}
